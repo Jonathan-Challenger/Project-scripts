{
 "cells": [
  {
   "cell_type": "code",
   "execution_count": 3,
   "metadata": {},
   "outputs": [],
   "source": [
    "def feedback_timings(sub, data, save):\n",
    "    \n",
    "    import pandas as pd\n",
    "    import os\n",
    "    \n",
    "    os.chdir(\"/Users/Jonathan Challenger/OneDrive/Dissdata/%s\" % sub)\n",
    "    \n",
    "    df = pd.read_csv(\"%s.csv\" % data)\n",
    "    \n",
    "    timing_df = df[[\"Outcome onset - block(ms)\", \"First fixation onset - block(ms)\"]]\n",
    "    timing_df[\"length\"] = (timing_df[\"First fixation onset - block(ms)\"] - timing_df[\"Outcome onset - block(ms)\"])\n",
    "    timing_df = timing_df.drop(\"First fixation onset - block(ms)\", 1)\n",
    "    timing_df[\"one\"] = \"1\"\n",
    "    timing_df[\"Outcome onset - block(ms)\"] = timing_df[\"Outcome onset - block(ms)\"] /1000\n",
    "    timing_df[\"length\"] = timing_df[\"length\"] /1000\n",
    "    timing_df.to_csv(r'C:\\Users\\Jonathan Challenger\\OneDrive\\Dissdata\\timings\\%s.csv' % save, index = False, header = False, sep = \"\\t\")"
   ]
  },
  {
   "cell_type": "code",
   "execution_count": 11,
   "metadata": {},
   "outputs": [
    {
     "name": "stderr",
     "output_type": "stream",
     "text": [
      "C:\\Users\\Jonathan Challenger\\anaconda3\\lib\\site-packages\\ipykernel_launcher.py:11: SettingWithCopyWarning: \n",
      "A value is trying to be set on a copy of a slice from a DataFrame.\n",
      "Try using .loc[row_indexer,col_indexer] = value instead\n",
      "\n",
      "See the caveats in the documentation: https://pandas.pydata.org/pandas-docs/stable/user_guide/indexing.html#returning-a-view-versus-a-copy\n",
      "  # This is added back by InteractiveShellApp.init_path()\n"
     ]
    }
   ],
   "source": [
    "feedback_timings(\"P6\", \"data6\", \"fdtiming6\")"
   ]
  }
 ],
 "metadata": {
  "kernelspec": {
   "display_name": "Python 3",
   "language": "python",
   "name": "python3"
  },
  "language_info": {
   "codemirror_mode": {
    "name": "ipython",
    "version": 3
   },
   "file_extension": ".py",
   "mimetype": "text/x-python",
   "name": "python",
   "nbconvert_exporter": "python",
   "pygments_lexer": "ipython3",
   "version": "3.7.6"
  }
 },
 "nbformat": 4,
 "nbformat_minor": 4
}
